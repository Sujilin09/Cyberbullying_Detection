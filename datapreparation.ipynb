{
  "cells": [
    {
      "cell_type": "code",
      "execution_count": null,
      "metadata": {
        "id": "CwSVBuG-E6X6"
      },
      "outputs": [],
      "source": [
        "# MODULES IMPORT\n",
        "\n",
        "import numpy as np\n",
        "import pandas as pd\n",
        "import pdb\n",
        "import os"
      ]
    },
    {
      "cell_type": "code",
      "source": [
        "from google.colab import files\n",
        "uploaded = files.upload()"
      ],
      "metadata": {
        "colab": {
          "base_uri": "https://localhost:8080/",
          "height": 144
        },
        "id": "WrOm2qLGhN1m",
        "outputId": "b53ca930-e6cc-472f-9268-b3097a7c6a1d"
      },
      "execution_count": null,
      "outputs": [
        {
          "output_type": "display_data",
          "data": {
            "text/plain": [
              "<IPython.core.display.HTML object>"
            ],
            "text/html": [
              "\n",
              "     <input type=\"file\" id=\"files-c446fbac-891a-4d6f-b486-c41beb1decb8\" name=\"files[]\" multiple disabled\n",
              "        style=\"border:none\" />\n",
              "     <output id=\"result-c446fbac-891a-4d6f-b486-c41beb1decb8\">\n",
              "      Upload widget is only available when the cell has been executed in the\n",
              "      current browser session. Please rerun this cell to enable.\n",
              "      </output>\n",
              "      <script>// Copyright 2017 Google LLC\n",
              "//\n",
              "// Licensed under the Apache License, Version 2.0 (the \"License\");\n",
              "// you may not use this file except in compliance with the License.\n",
              "// You may obtain a copy of the License at\n",
              "//\n",
              "//      http://www.apache.org/licenses/LICENSE-2.0\n",
              "//\n",
              "// Unless required by applicable law or agreed to in writing, software\n",
              "// distributed under the License is distributed on an \"AS IS\" BASIS,\n",
              "// WITHOUT WARRANTIES OR CONDITIONS OF ANY KIND, either express or implied.\n",
              "// See the License for the specific language governing permissions and\n",
              "// limitations under the License.\n",
              "\n",
              "/**\n",
              " * @fileoverview Helpers for google.colab Python module.\n",
              " */\n",
              "(function(scope) {\n",
              "function span(text, styleAttributes = {}) {\n",
              "  const element = document.createElement('span');\n",
              "  element.textContent = text;\n",
              "  for (const key of Object.keys(styleAttributes)) {\n",
              "    element.style[key] = styleAttributes[key];\n",
              "  }\n",
              "  return element;\n",
              "}\n",
              "\n",
              "// Max number of bytes which will be uploaded at a time.\n",
              "const MAX_PAYLOAD_SIZE = 100 * 1024;\n",
              "\n",
              "function _uploadFiles(inputId, outputId) {\n",
              "  const steps = uploadFilesStep(inputId, outputId);\n",
              "  const outputElement = document.getElementById(outputId);\n",
              "  // Cache steps on the outputElement to make it available for the next call\n",
              "  // to uploadFilesContinue from Python.\n",
              "  outputElement.steps = steps;\n",
              "\n",
              "  return _uploadFilesContinue(outputId);\n",
              "}\n",
              "\n",
              "// This is roughly an async generator (not supported in the browser yet),\n",
              "// where there are multiple asynchronous steps and the Python side is going\n",
              "// to poll for completion of each step.\n",
              "// This uses a Promise to block the python side on completion of each step,\n",
              "// then passes the result of the previous step as the input to the next step.\n",
              "function _uploadFilesContinue(outputId) {\n",
              "  const outputElement = document.getElementById(outputId);\n",
              "  const steps = outputElement.steps;\n",
              "\n",
              "  const next = steps.next(outputElement.lastPromiseValue);\n",
              "  return Promise.resolve(next.value.promise).then((value) => {\n",
              "    // Cache the last promise value to make it available to the next\n",
              "    // step of the generator.\n",
              "    outputElement.lastPromiseValue = value;\n",
              "    return next.value.response;\n",
              "  });\n",
              "}\n",
              "\n",
              "/**\n",
              " * Generator function which is called between each async step of the upload\n",
              " * process.\n",
              " * @param {string} inputId Element ID of the input file picker element.\n",
              " * @param {string} outputId Element ID of the output display.\n",
              " * @return {!Iterable<!Object>} Iterable of next steps.\n",
              " */\n",
              "function* uploadFilesStep(inputId, outputId) {\n",
              "  const inputElement = document.getElementById(inputId);\n",
              "  inputElement.disabled = false;\n",
              "\n",
              "  const outputElement = document.getElementById(outputId);\n",
              "  outputElement.innerHTML = '';\n",
              "\n",
              "  const pickedPromise = new Promise((resolve) => {\n",
              "    inputElement.addEventListener('change', (e) => {\n",
              "      resolve(e.target.files);\n",
              "    });\n",
              "  });\n",
              "\n",
              "  const cancel = document.createElement('button');\n",
              "  inputElement.parentElement.appendChild(cancel);\n",
              "  cancel.textContent = 'Cancel upload';\n",
              "  const cancelPromise = new Promise((resolve) => {\n",
              "    cancel.onclick = () => {\n",
              "      resolve(null);\n",
              "    };\n",
              "  });\n",
              "\n",
              "  // Wait for the user to pick the files.\n",
              "  const files = yield {\n",
              "    promise: Promise.race([pickedPromise, cancelPromise]),\n",
              "    response: {\n",
              "      action: 'starting',\n",
              "    }\n",
              "  };\n",
              "\n",
              "  cancel.remove();\n",
              "\n",
              "  // Disable the input element since further picks are not allowed.\n",
              "  inputElement.disabled = true;\n",
              "\n",
              "  if (!files) {\n",
              "    return {\n",
              "      response: {\n",
              "        action: 'complete',\n",
              "      }\n",
              "    };\n",
              "  }\n",
              "\n",
              "  for (const file of files) {\n",
              "    const li = document.createElement('li');\n",
              "    li.append(span(file.name, {fontWeight: 'bold'}));\n",
              "    li.append(span(\n",
              "        `(${file.type || 'n/a'}) - ${file.size} bytes, ` +\n",
              "        `last modified: ${\n",
              "            file.lastModifiedDate ? file.lastModifiedDate.toLocaleDateString() :\n",
              "                                    'n/a'} - `));\n",
              "    const percent = span('0% done');\n",
              "    li.appendChild(percent);\n",
              "\n",
              "    outputElement.appendChild(li);\n",
              "\n",
              "    const fileDataPromise = new Promise((resolve) => {\n",
              "      const reader = new FileReader();\n",
              "      reader.onload = (e) => {\n",
              "        resolve(e.target.result);\n",
              "      };\n",
              "      reader.readAsArrayBuffer(file);\n",
              "    });\n",
              "    // Wait for the data to be ready.\n",
              "    let fileData = yield {\n",
              "      promise: fileDataPromise,\n",
              "      response: {\n",
              "        action: 'continue',\n",
              "      }\n",
              "    };\n",
              "\n",
              "    // Use a chunked sending to avoid message size limits. See b/62115660.\n",
              "    let position = 0;\n",
              "    do {\n",
              "      const length = Math.min(fileData.byteLength - position, MAX_PAYLOAD_SIZE);\n",
              "      const chunk = new Uint8Array(fileData, position, length);\n",
              "      position += length;\n",
              "\n",
              "      const base64 = btoa(String.fromCharCode.apply(null, chunk));\n",
              "      yield {\n",
              "        response: {\n",
              "          action: 'append',\n",
              "          file: file.name,\n",
              "          data: base64,\n",
              "        },\n",
              "      };\n",
              "\n",
              "      let percentDone = fileData.byteLength === 0 ?\n",
              "          100 :\n",
              "          Math.round((position / fileData.byteLength) * 100);\n",
              "      percent.textContent = `${percentDone}% done`;\n",
              "\n",
              "    } while (position < fileData.byteLength);\n",
              "  }\n",
              "\n",
              "  // All done.\n",
              "  yield {\n",
              "    response: {\n",
              "      action: 'complete',\n",
              "    }\n",
              "  };\n",
              "}\n",
              "\n",
              "scope.google = scope.google || {};\n",
              "scope.google.colab = scope.google.colab || {};\n",
              "scope.google.colab._files = {\n",
              "  _uploadFiles,\n",
              "  _uploadFilesContinue,\n",
              "};\n",
              "})(self);\n",
              "</script> "
            ]
          },
          "metadata": {}
        },
        {
          "output_type": "stream",
          "name": "stdout",
          "text": [
            "Saving test.csv to test.csv\n",
            "Saving test_labels.csv to test_labels.csv\n",
            "Saving train.csv to train.csv\n"
          ]
        }
      ]
    },
    {
      "cell_type": "code",
      "source": [
        "#3. Read file as panda dataframe\n",
        "train         = pd.read_csv('train.csv')\n",
        "test          = pd.read_csv('test.csv')\n",
        "labels        = pd.read_csv('test_labels.csv')"
      ],
      "metadata": {
        "id": "gcbcN83hiwhc"
      },
      "execution_count": null,
      "outputs": []
    },
    {
      "cell_type": "code",
      "execution_count": null,
      "metadata": {
        "id": "9ilY_NUAI3NV"
      },
      "outputs": [],
      "source": [
        "#Combine labels and test set\n",
        "test                = test.merge(labels, how=\"left\", on=\"id\")\n",
        "test['used_for_sc'] = test[['toxic', 'severe_toxic', 'obscene', 'threat', 'insult', 'identity_hate']].sum(axis=1) >= 0\n",
        "test_labelled       = test[test.used_for_sc==True]\n",
        "test_unlabelled     = test[test.used_for_sc!=True]"
      ]
    },
    {
      "cell_type": "code",
      "execution_count": null,
      "metadata": {
        "id": "VhBEDM5JLots"
      },
      "outputs": [],
      "source": [
        "# Clean data completely\n",
        "def substitute_repeats_fixed_len(text, nchars, ntimes=3):\n",
        "    return re.sub(r\"(\\S{{{}}})(\\1{{{},}})\".format(nchars, ntimes-1), r\"\\1\", text)\n",
        "\n",
        "def substitute_repeats(text, ntimes=3):\n",
        "    for nchars in range(1, 20):\n",
        "        text         = substitute_repeats_fixed_len(text, nchars, ntimes)\n",
        "    return text\n",
        "\n",
        "def text_to_wordlist(text, remove_stop_words=True, stem_words=False, with_punct_sent=False):\n",
        "    stop_words       = set(['a', 'the', \"an\", \"are\", \"as\",  'did',\n",
        "                       \"do\", \"is\", \"has\", \"have\", \"had\", \"was\", \"were\",\n",
        "                       \"will\", \"would\", \"am\", \"it\", \"for\", \"on\", \"it\", \"of\"])\n",
        "    #from string import punctuation\n",
        "    import re\n",
        "    NEG_CONTRACTIONS    = [\n",
        "                          (r'aren\\'t', 'are not'),\n",
        "                          (r'can\\'t', 'can not'),\n",
        "                          (r'couldn\\'t', 'could not'),\n",
        "                          (r'daren\\'t', 'dare not'),\n",
        "                          (r'didn\\'t', 'did not'),\n",
        "                          (r'doesn\\'t', 'does not'),\n",
        "                          (r'don\\'t', 'do not'),\n",
        "                          (r'isn\\'t', 'is not'),\n",
        "                          (r'hasn\\'t', 'has not'),\n",
        "                          (r'haven\\'t', 'have not'),\n",
        "                          (r'hadn\\'t', 'had not'),\n",
        "                          (r'mayn\\'t', 'may not'),\n",
        "                          (r'mightn\\'t', 'might not'),\n",
        "                          (r'mustn\\'t', 'must not'),\n",
        "                          (r'needn\\'t', 'need not'),\n",
        "                          (r'oughtn\\'t', 'ought not'),\n",
        "                          (r'shan\\'t', 'shall not'),\n",
        "                          (r'shouldn\\'t', 'should not'),\n",
        "                          (r'wasn\\'t', 'was not'),\n",
        "                          (r'weren\\'t', 'were not'),\n",
        "                          (r'won\\'t', 'will not'),\n",
        "                          (r'wouldn\\'t', 'would not'),\n",
        "                          (r'ain\\'t', 'am not') # not only but stopword anyway\n",
        "                          ]\n",
        "    OTHER_CONTRACTIONS = [\n",
        "                          #(r\"'m\", 'am'),\n",
        "                          (r\"'ll\", ' will'),\n",
        "                          (r\"'s\", ' has'), # or 'is' but both are stopwords\n",
        "                          (r\"'d\", ' had'), # or 'would' but both are stopwords\n",
        "                          (r\"'ve\", \" have\"),\n",
        "                           (r\"'re\", \" are\")\n",
        "    ]\n",
        "    OTHER_RPS          = [\n",
        "                          (\"&lt;3\", \" good \"),\n",
        "                          (\":d\", \" good \"),\n",
        "                          (\":dd\", \" good \"),\n",
        "                          (\":p\", \" good \"),\n",
        "                          (\"8)\", \" good \"),\n",
        "                          (\":-)\", \" good \"),\n",
        "                          (\":)\", \" good \"),\n",
        "                          (\";)\", \" good \"),\n",
        "                          (\"(-:\", \" good \"),\n",
        "                          (\"(:\", \" good \"),\n",
        "                          (\"yay!\", \" good \"),\n",
        "                          (\"yay\", \" good \"),\n",
        "                          (\"yaay\", \" good \"),\n",
        "                          (\"yaaay\", \" good \"),\n",
        "                          (\"yaaaay\", \" good \"),\n",
        "                          (\"yaaaaay\", \" good \"),\n",
        "                          (\":/\", \" bad \"),\n",
        "                          (\":&gt;\", \" sad \"),\n",
        "                          (\":')\", \" sad \"),\n",
        "                          (\":-(\", \" bad \"),\n",
        "                          (\":(\", \" bad \"),\n",
        "                          (\":s\", \" bad \"),\n",
        "                          (\":-s\", \" bad \"),\n",
        "                          (\"&lt;3\", \" heart \"),\n",
        "                          (\":d\", \" smile \"),\n",
        "                          (\":p\", \" smile \"),\n",
        "                          (\":dd\", \" smile \"),\n",
        "                          (\"8)\", \" smile \"),\n",
        "                          (\":-)\", \" smile \"),\n",
        "                          (\":)\", \" smile \"),\n",
        "                          (\";)\", \" smile \"),\n",
        "                          (\"(-:\", \" smile \"),\n",
        "                          (\"(:\", \" smile \"),\n",
        "                          (\":/\", \" worry \"),\n",
        "                          (\":&gt;\", \" angry \"),\n",
        "                          (\":')\", \" sad \"),\n",
        "                          (\":-(\", \" sad \"),\n",
        "                          (\":(\", \" sad \"),\n",
        "                          (\":s\", \" sad \"),\n",
        "                          (\":-s\", \" sad \"),\n",
        "                          (r\"\\br\\b\", \"are\"),\n",
        "                          (r\"\\bu\\b\", \"you\"),\n",
        "                          (r\"\\bhaha\\b\", \"ha\"),\n",
        "                          (r\"\\bhahaha\\b\", \"ha\"),\n",
        "                          (r\"\\bdon't\\b\", \"do not\"),\n",
        "                          (r\"\\bdoesn't\\b\", \"does not\"),\n",
        "                          (r\"\\bdidn't\\b\", \"did not\"),\n",
        "                          (r\"\\bhasn't\\b\", \"has not\"),\n",
        "                          (r\"\\bhaven't\\b\", \"have not\"),\n",
        "                          (r\"\\bhadn't\\b\", \"had not\"),\n",
        "                          (r\"\\bwon't\\b\", \"will not\"),\n",
        "                          (r\"\\bwouldn't\\b\", \"would not\"),\n",
        "                          (r\"\\bcan't\\b\", \"can not\"),\n",
        "                          (r\"\\bcannot\\b\", \"can not\"),\n",
        "                          (r\"\\bi'm\\b\", \"i am\"),\n",
        "                          (\"m\", \"am\"),\n",
        "                          (\"r\", \"are\"),\n",
        "                          (\"u\", \"you\"),\n",
        "                          (\"haha\", \"ha\"),\n",
        "                          (\"hahaha\", \"ha\"),\n",
        "                          (\"don't\", \"do not\"),\n",
        "                          (\"doesn't\", \"does not\"),\n",
        "                          (\"didn't\", \"did not\"),\n",
        "                          (\"hasn't\", \"has not\"),\n",
        "                          (\"haven't\", \"have not\"),\n",
        "                          (\"hadn't\", \"had not\"),\n",
        "                          (\"won't\", \"will not\"),\n",
        "                          (\"wouldn't\", \"would not\"),\n",
        "                          (\"can't\", \"can not\"),\n",
        "                          (\"cannot\", \"can not\"),\n",
        "                          (\"i'm\", \"i am\"),\n",
        "                          (\"m\", \"am\"),\n",
        "                          (\"i'll\" , \"i will\"),\n",
        "                          (\"its\" , \"it is\"),\n",
        "                          (\"it's\" , \"it is\"),\n",
        "                          (\"'s\" , \" is\"),\n",
        "                          (\"that's\" , \"that is\"),\n",
        "                          (\"weren't\" , \"were not\")\n",
        "    ]\n",
        "\n",
        "    # Clean the text, with the option to remove stop_words and to stem words.\n",
        "    text                = text.lower()\n",
        "\n",
        "    for t in NEG_CONTRACTIONS:\n",
        "            text        = re.sub(t[0], t[1], text)\n",
        "\n",
        "\n",
        "    for t in OTHER_CONTRACTIONS:\n",
        "            text        = re.sub(t[0], t[1], text)\n",
        "    for t in OTHER_RPS:\n",
        "            #print(t)\n",
        "            text.replace(t[0], t[1])\n",
        "            #text = re.sub(t[0], t[1], text)\n",
        "\n",
        "    # Clean the text\n",
        "    if with_punct_sent:\n",
        "      text              = re.sub(r\"[^A-Za-z0-9!.?]\", \" \", text)\n",
        "    else:\n",
        "      text              = re.sub(r\"[^A-Za-z0-9]\", \" \", text)\n",
        "\n",
        "    text                = re.sub(r\"what's\", \"\", text)\n",
        "    #text               = re.sub(r\"What's\", \"\", text)\n",
        "    text                = re.sub(r\"\\'s\", \" \", text)\n",
        "    text                = re.sub(r\"\\'ve\", \" have \", text)\n",
        "    text                = re.sub(r\"can\\'t\", \"cannot \", text)\n",
        "    text                = re.sub(r\"n\\'t\", \" not \", text)\n",
        "    text                = re.sub(r\"i\\'m\", \"i am\", text)\n",
        "    text                = re.sub(r\" m \", \" am \", text)\n",
        "    text                = re.sub(r\"\\'re\", \" are \", text)\n",
        "    text                = re.sub(r\"\\'d\", \" would \", text)\n",
        "    text                = re.sub(r\"\\'ll\", \" will \", text)\n",
        "    text                = re.sub('[0-9]+', '', text)\n",
        "\n",
        "\n",
        "\n",
        "    #if with_punct_sent==False:\n",
        "    #    pass\n",
        "        #text = ''.join([c for c in text if c not in '!\"#$%&\\'()*+,-./:;<=>?@[\\\\]^_`{|}~'])\n",
        "    #else:\n",
        "     #   text = ''.join([c for c in text if c not in '!.?'])\n",
        "\n",
        "    # Optionally, remove stop words\n",
        "    if remove_stop_words:\n",
        "        text           = text.split()\n",
        "        text           = [w for w in text if not w in stop_words]\n",
        "        text           = \" \".join(text)\n",
        "\n",
        "    # Optionally, shorten words to their stems\n",
        "    if stem_words:\n",
        "        text           = text.split()\n",
        "        stemmer        = SnowballStemmer('english')\n",
        "        stemmed_words  = [stemmer.stem(word) for word in text]\n",
        "        text           = \" \".join(stemmed_words)\n",
        "\n",
        "    ltr = text.split()\n",
        "    new_data = []\n",
        "    for i in ltr:\n",
        "        arr = str(i).split()\n",
        "        xx = \"\"\n",
        "        for j in arr:\n",
        "            j = str(j).lower()\n",
        "            if j[:4] == 'http' or j[:3] == 'www':\n",
        "                continue\n",
        "            xx += j + ' '\n",
        "        new_data.append(xx)\n",
        "    text = ''.join(new_data)\n",
        "    return(text)"
      ]
    },
    {
      "cell_type": "code",
      "execution_count": null,
      "metadata": {
        "colab": {
          "base_uri": "https://localhost:8080/"
        },
        "id": "zKQkh-EkSZyn",
        "outputId": "7b2d63e6-6b53-4f22-ad0d-6446042be8d0"
      },
      "outputs": [
        {
          "output_type": "stream",
          "name": "stdout",
          "text": [
            "Preparing the data without any punctuation\n",
            "Train\n",
            "Test labelled\n",
            "Test unlabelled\n"
          ]
        }
      ],
      "source": [
        "print('Preparing the data without any punctuation')\n",
        "train_no_punct                            = train.copy()\n",
        "test_labelled_no_punct                    = test_labelled.copy()\n",
        "test_unlabelled_no_punct                  = test_unlabelled.copy()\n",
        "\n",
        "print('Train')\n",
        "train_no_punct.loc[:,'comment_text']            = train['comment_text'].apply(lambda x : text_to_wordlist(x, remove_stop_words=True, stem_words=False))\n",
        "print('Test labelled')\n",
        "test_labelled_no_punct.loc[:,'comment_text']    = test_labelled['comment_text'].apply(lambda x : text_to_wordlist(x, remove_stop_words=True, stem_words=False))\n",
        "print('Test unlabelled')\n",
        "test_unlabelled_no_punct.loc[:,'comment_text']  = test_unlabelled['comment_text'].apply(lambda x : text_to_wordlist(x, remove_stop_words=True, stem_words=False))"
      ]
    },
    {
      "cell_type": "code",
      "execution_count": null,
      "metadata": {
        "id": "rikI5ZSYUltl"
      },
      "outputs": [],
      "source": [
        "import os\n",
        "\n",
        "# Create folder inside Colab\n",
        "data_path = '/content/toxic_data'\n",
        "os.makedirs(data_path, exist_ok=True)\n",
        "\n",
        "# Save your files\n",
        "train_no_punct.to_csv(f'{data_path}/train_cleaned_no_punkt.csv', index=False)\n",
        "test_labelled_no_punct.drop('used_for_sc', axis=1).to_csv(f'{data_path}/test_labelled_cleaned_no_punkt.csv', index=False)\n",
        "test_unlabelled_no_punct.drop('used_for_sc', axis=1).to_csv(f'{data_path}/test_unlabelled_cleaned_no_punkt.csv', index=False)\n"
      ]
    },
    {
      "cell_type": "code",
      "execution_count": null,
      "metadata": {
        "colab": {
          "base_uri": "https://localhost:8080/"
        },
        "id": "LoqeUel9VWOx",
        "outputId": "882e033b-b654-41e0-ba22-0e96619a1858"
      },
      "outputs": [
        {
          "output_type": "stream",
          "name": "stdout",
          "text": [
            "Preparing the data with sentence punctuation\n",
            "Train\n",
            "Test labelled\n",
            "Test unlabelled\n"
          ]
        }
      ],
      "source": [
        "print('Preparing the data with sentence punctuation')\n",
        "train_sent_punct = train.copy()\n",
        "test_labelled_sent_punct = test_labelled.copy()\n",
        "test_unlabelled_sent_punct = test_unlabelled.copy()\n",
        "\n",
        "print('Train')\n",
        "train_sent_punct.loc[:,'comment_text']            = train['comment_text'].apply(lambda x : text_to_wordlist(x, remove_stop_words=True, stem_words=False, with_punct_sent=True))\n",
        "print('Test labelled')\n",
        "test_labelled_sent_punct.loc[:,'comment_text']    = test_labelled['comment_text'].apply(lambda x : text_to_wordlist(x, remove_stop_words=True, stem_words=False, with_punct_sent=True))\n",
        "print('Test unlabelled')\n",
        "test_unlabelled_sent_punct.loc[:,'comment_text']  = test_unlabelled['comment_text'].apply(lambda x : text_to_wordlist(x, remove_stop_words=True, stem_words=False, with_punct_sent=True))"
      ]
    },
    {
      "cell_type": "code",
      "execution_count": null,
      "metadata": {
        "id": "bGjZHk_vV7p0"
      },
      "outputs": [],
      "source": [
        "import os\n",
        "\n",
        "# Create a folder in Colab's /content directory\n",
        "data_path = '/content/toxic_data'\n",
        "os.makedirs(data_path, exist_ok=True)\n",
        "\n",
        "# Save the files\n",
        "train_sent_punct.to_csv(f'{data_path}/train_cleaned_sent_punkt.csv', index=False)\n",
        "test_labelled_sent_punct.drop('used_for_sc', axis=1).to_csv(f'{data_path}/test_labelled_cleaned_sent_punkt.csv', index=False)\n",
        "test_unlabelled_sent_punct.drop('used_for_sc', axis=1).to_csv(f'{data_path}/test_unlabelled_cleaned_sent_punkt.csv', index=False)\n"
      ]
    },
    {
      "cell_type": "code",
      "source": [
        "from google.colab import files\n",
        "\n",
        "# With punctuation\n",
        "files.download('/content/toxic_data/train_cleaned_sent_punkt.csv')\n",
        "files.download('/content/toxic_data/test_labelled_cleaned_sent_punkt.csv')\n",
        "files.download('/content/toxic_data/test_unlabelled_cleaned_sent_punkt.csv')\n",
        "\n",
        "# Without punctuation\n",
        "files.download('/content/toxic_data/train_cleaned_no_punkt.csv')\n",
        "files.download('/content/toxic_data/test_labelled_cleaned_no_punkt.csv')\n",
        "files.download('/content/toxic_data/test_unlabelled_cleaned_no_punkt.csv')\n"
      ],
      "metadata": {
        "colab": {
          "base_uri": "https://localhost:8080/",
          "height": 17
        },
        "id": "inc_9xaym50X",
        "outputId": "1bda994a-5a87-4796-910a-952e326c754b"
      },
      "execution_count": null,
      "outputs": [
        {
          "output_type": "display_data",
          "data": {
            "text/plain": [
              "<IPython.core.display.Javascript object>"
            ],
            "application/javascript": [
              "\n",
              "    async function download(id, filename, size) {\n",
              "      if (!google.colab.kernel.accessAllowed) {\n",
              "        return;\n",
              "      }\n",
              "      const div = document.createElement('div');\n",
              "      const label = document.createElement('label');\n",
              "      label.textContent = `Downloading \"${filename}\": `;\n",
              "      div.appendChild(label);\n",
              "      const progress = document.createElement('progress');\n",
              "      progress.max = size;\n",
              "      div.appendChild(progress);\n",
              "      document.body.appendChild(div);\n",
              "\n",
              "      const buffers = [];\n",
              "      let downloaded = 0;\n",
              "\n",
              "      const channel = await google.colab.kernel.comms.open(id);\n",
              "      // Send a message to notify the kernel that we're ready.\n",
              "      channel.send({})\n",
              "\n",
              "      for await (const message of channel.messages) {\n",
              "        // Send a message to notify the kernel that we're ready.\n",
              "        channel.send({})\n",
              "        if (message.buffers) {\n",
              "          for (const buffer of message.buffers) {\n",
              "            buffers.push(buffer);\n",
              "            downloaded += buffer.byteLength;\n",
              "            progress.value = downloaded;\n",
              "          }\n",
              "        }\n",
              "      }\n",
              "      const blob = new Blob(buffers, {type: 'application/binary'});\n",
              "      const a = document.createElement('a');\n",
              "      a.href = window.URL.createObjectURL(blob);\n",
              "      a.download = filename;\n",
              "      div.appendChild(a);\n",
              "      a.click();\n",
              "      div.remove();\n",
              "    }\n",
              "  "
            ]
          },
          "metadata": {}
        },
        {
          "output_type": "display_data",
          "data": {
            "text/plain": [
              "<IPython.core.display.Javascript object>"
            ],
            "application/javascript": [
              "download(\"download_9cf33cd4-6b3a-437b-a917-2b3fd538ec9f\", \"train_cleaned_sent_punkt.csv\", 58016135)"
            ]
          },
          "metadata": {}
        },
        {
          "output_type": "display_data",
          "data": {
            "text/plain": [
              "<IPython.core.display.Javascript object>"
            ],
            "application/javascript": [
              "\n",
              "    async function download(id, filename, size) {\n",
              "      if (!google.colab.kernel.accessAllowed) {\n",
              "        return;\n",
              "      }\n",
              "      const div = document.createElement('div');\n",
              "      const label = document.createElement('label');\n",
              "      label.textContent = `Downloading \"${filename}\": `;\n",
              "      div.appendChild(label);\n",
              "      const progress = document.createElement('progress');\n",
              "      progress.max = size;\n",
              "      div.appendChild(progress);\n",
              "      document.body.appendChild(div);\n",
              "\n",
              "      const buffers = [];\n",
              "      let downloaded = 0;\n",
              "\n",
              "      const channel = await google.colab.kernel.comms.open(id);\n",
              "      // Send a message to notify the kernel that we're ready.\n",
              "      channel.send({})\n",
              "\n",
              "      for await (const message of channel.messages) {\n",
              "        // Send a message to notify the kernel that we're ready.\n",
              "        channel.send({})\n",
              "        if (message.buffers) {\n",
              "          for (const buffer of message.buffers) {\n",
              "            buffers.push(buffer);\n",
              "            downloaded += buffer.byteLength;\n",
              "            progress.value = downloaded;\n",
              "          }\n",
              "        }\n",
              "      }\n",
              "      const blob = new Blob(buffers, {type: 'application/binary'});\n",
              "      const a = document.createElement('a');\n",
              "      a.href = window.URL.createObjectURL(blob);\n",
              "      a.download = filename;\n",
              "      div.appendChild(a);\n",
              "      a.click();\n",
              "      div.remove();\n",
              "    }\n",
              "  "
            ]
          },
          "metadata": {}
        },
        {
          "output_type": "display_data",
          "data": {
            "text/plain": [
              "<IPython.core.display.Javascript object>"
            ],
            "application/javascript": [
              "download(\"download_ac8963e2-9a5d-44e9-b491-f7ee94ef11de\", \"test_labelled_cleaned_sent_punkt.csv\", 22049515)"
            ]
          },
          "metadata": {}
        },
        {
          "output_type": "display_data",
          "data": {
            "text/plain": [
              "<IPython.core.display.Javascript object>"
            ],
            "application/javascript": [
              "\n",
              "    async function download(id, filename, size) {\n",
              "      if (!google.colab.kernel.accessAllowed) {\n",
              "        return;\n",
              "      }\n",
              "      const div = document.createElement('div');\n",
              "      const label = document.createElement('label');\n",
              "      label.textContent = `Downloading \"${filename}\": `;\n",
              "      div.appendChild(label);\n",
              "      const progress = document.createElement('progress');\n",
              "      progress.max = size;\n",
              "      div.appendChild(progress);\n",
              "      document.body.appendChild(div);\n",
              "\n",
              "      const buffers = [];\n",
              "      let downloaded = 0;\n",
              "\n",
              "      const channel = await google.colab.kernel.comms.open(id);\n",
              "      // Send a message to notify the kernel that we're ready.\n",
              "      channel.send({})\n",
              "\n",
              "      for await (const message of channel.messages) {\n",
              "        // Send a message to notify the kernel that we're ready.\n",
              "        channel.send({})\n",
              "        if (message.buffers) {\n",
              "          for (const buffer of message.buffers) {\n",
              "            buffers.push(buffer);\n",
              "            downloaded += buffer.byteLength;\n",
              "            progress.value = downloaded;\n",
              "          }\n",
              "        }\n",
              "      }\n",
              "      const blob = new Blob(buffers, {type: 'application/binary'});\n",
              "      const a = document.createElement('a');\n",
              "      a.href = window.URL.createObjectURL(blob);\n",
              "      a.download = filename;\n",
              "      div.appendChild(a);\n",
              "      a.click();\n",
              "      div.remove();\n",
              "    }\n",
              "  "
            ]
          },
          "metadata": {}
        },
        {
          "output_type": "display_data",
          "data": {
            "text/plain": [
              "<IPython.core.display.Javascript object>"
            ],
            "application/javascript": [
              "download(\"download_5e2cd865-fffa-418a-a0a3-af08cb455fb2\", \"test_unlabelled_cleaned_sent_punkt.csv\", 29167845)"
            ]
          },
          "metadata": {}
        },
        {
          "output_type": "display_data",
          "data": {
            "text/plain": [
              "<IPython.core.display.Javascript object>"
            ],
            "application/javascript": [
              "\n",
              "    async function download(id, filename, size) {\n",
              "      if (!google.colab.kernel.accessAllowed) {\n",
              "        return;\n",
              "      }\n",
              "      const div = document.createElement('div');\n",
              "      const label = document.createElement('label');\n",
              "      label.textContent = `Downloading \"${filename}\": `;\n",
              "      div.appendChild(label);\n",
              "      const progress = document.createElement('progress');\n",
              "      progress.max = size;\n",
              "      div.appendChild(progress);\n",
              "      document.body.appendChild(div);\n",
              "\n",
              "      const buffers = [];\n",
              "      let downloaded = 0;\n",
              "\n",
              "      const channel = await google.colab.kernel.comms.open(id);\n",
              "      // Send a message to notify the kernel that we're ready.\n",
              "      channel.send({})\n",
              "\n",
              "      for await (const message of channel.messages) {\n",
              "        // Send a message to notify the kernel that we're ready.\n",
              "        channel.send({})\n",
              "        if (message.buffers) {\n",
              "          for (const buffer of message.buffers) {\n",
              "            buffers.push(buffer);\n",
              "            downloaded += buffer.byteLength;\n",
              "            progress.value = downloaded;\n",
              "          }\n",
              "        }\n",
              "      }\n",
              "      const blob = new Blob(buffers, {type: 'application/binary'});\n",
              "      const a = document.createElement('a');\n",
              "      a.href = window.URL.createObjectURL(blob);\n",
              "      a.download = filename;\n",
              "      div.appendChild(a);\n",
              "      a.click();\n",
              "      div.remove();\n",
              "    }\n",
              "  "
            ]
          },
          "metadata": {}
        },
        {
          "output_type": "display_data",
          "data": {
            "text/plain": [
              "<IPython.core.display.Javascript object>"
            ],
            "application/javascript": [
              "download(\"download_b494318a-c4a1-4481-af61-cc048933f6b3\", \"train_cleaned_no_punkt.csv\", 57117330)"
            ]
          },
          "metadata": {}
        },
        {
          "output_type": "display_data",
          "data": {
            "text/plain": [
              "<IPython.core.display.Javascript object>"
            ],
            "application/javascript": [
              "\n",
              "    async function download(id, filename, size) {\n",
              "      if (!google.colab.kernel.accessAllowed) {\n",
              "        return;\n",
              "      }\n",
              "      const div = document.createElement('div');\n",
              "      const label = document.createElement('label');\n",
              "      label.textContent = `Downloading \"${filename}\": `;\n",
              "      div.appendChild(label);\n",
              "      const progress = document.createElement('progress');\n",
              "      progress.max = size;\n",
              "      div.appendChild(progress);\n",
              "      document.body.appendChild(div);\n",
              "\n",
              "      const buffers = [];\n",
              "      let downloaded = 0;\n",
              "\n",
              "      const channel = await google.colab.kernel.comms.open(id);\n",
              "      // Send a message to notify the kernel that we're ready.\n",
              "      channel.send({})\n",
              "\n",
              "      for await (const message of channel.messages) {\n",
              "        // Send a message to notify the kernel that we're ready.\n",
              "        channel.send({})\n",
              "        if (message.buffers) {\n",
              "          for (const buffer of message.buffers) {\n",
              "            buffers.push(buffer);\n",
              "            downloaded += buffer.byteLength;\n",
              "            progress.value = downloaded;\n",
              "          }\n",
              "        }\n",
              "      }\n",
              "      const blob = new Blob(buffers, {type: 'application/binary'});\n",
              "      const a = document.createElement('a');\n",
              "      a.href = window.URL.createObjectURL(blob);\n",
              "      a.download = filename;\n",
              "      div.appendChild(a);\n",
              "      a.click();\n",
              "      div.remove();\n",
              "    }\n",
              "  "
            ]
          },
          "metadata": {}
        },
        {
          "output_type": "display_data",
          "data": {
            "text/plain": [
              "<IPython.core.display.Javascript object>"
            ],
            "application/javascript": [
              "download(\"download_9a85935a-8423-4f78-ab0c-e683deb51fc2\", \"test_labelled_cleaned_no_punkt.csv\", 21696705)"
            ]
          },
          "metadata": {}
        },
        {
          "output_type": "display_data",
          "data": {
            "text/plain": [
              "<IPython.core.display.Javascript object>"
            ],
            "application/javascript": [
              "\n",
              "    async function download(id, filename, size) {\n",
              "      if (!google.colab.kernel.accessAllowed) {\n",
              "        return;\n",
              "      }\n",
              "      const div = document.createElement('div');\n",
              "      const label = document.createElement('label');\n",
              "      label.textContent = `Downloading \"${filename}\": `;\n",
              "      div.appendChild(label);\n",
              "      const progress = document.createElement('progress');\n",
              "      progress.max = size;\n",
              "      div.appendChild(progress);\n",
              "      document.body.appendChild(div);\n",
              "\n",
              "      const buffers = [];\n",
              "      let downloaded = 0;\n",
              "\n",
              "      const channel = await google.colab.kernel.comms.open(id);\n",
              "      // Send a message to notify the kernel that we're ready.\n",
              "      channel.send({})\n",
              "\n",
              "      for await (const message of channel.messages) {\n",
              "        // Send a message to notify the kernel that we're ready.\n",
              "        channel.send({})\n",
              "        if (message.buffers) {\n",
              "          for (const buffer of message.buffers) {\n",
              "            buffers.push(buffer);\n",
              "            downloaded += buffer.byteLength;\n",
              "            progress.value = downloaded;\n",
              "          }\n",
              "        }\n",
              "      }\n",
              "      const blob = new Blob(buffers, {type: 'application/binary'});\n",
              "      const a = document.createElement('a');\n",
              "      a.href = window.URL.createObjectURL(blob);\n",
              "      a.download = filename;\n",
              "      div.appendChild(a);\n",
              "      a.click();\n",
              "      div.remove();\n",
              "    }\n",
              "  "
            ]
          },
          "metadata": {}
        },
        {
          "output_type": "display_data",
          "data": {
            "text/plain": [
              "<IPython.core.display.Javascript object>"
            ],
            "application/javascript": [
              "download(\"download_e626a4e7-41ea-4ed1-ae04-2e9550e8c049\", \"test_unlabelled_cleaned_no_punkt.csv\", 28670975)"
            ]
          },
          "metadata": {}
        }
      ]
    },
    {
      "cell_type": "code",
      "source": [],
      "metadata": {
        "id": "t7IBTnXgm9AH"
      },
      "execution_count": null,
      "outputs": []
    }
  ],
  "metadata": {
    "colab": {
      "provenance": []
    },
    "kernelspec": {
      "display_name": "Python 3",
      "language": "python",
      "name": "python3"
    },
    "language_info": {
      "codemirror_mode": {
        "name": "ipython",
        "version": 3
      },
      "file_extension": ".py",
      "mimetype": "text/x-python",
      "name": "python",
      "nbconvert_exporter": "python",
      "pygments_lexer": "ipython3",
      "version": "3.6.8"
    }
  },
  "nbformat": 4,
  "nbformat_minor": 0
}